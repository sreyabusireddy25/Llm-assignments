{
 "cells": [
  {
   "cell_type": "markdown",
   "id": "2037b790",
   "metadata": {},
   "source": [
    "#  Implement XML parser"
   ]
  },
  {
   "cell_type": "code",
   "execution_count": 13,
   "id": "aff9c406",
   "metadata": {},
   "outputs": [
    {
     "name": "stdout",
     "output_type": "stream",
     "text": [
      "Note: you may need to restart the kernel to use updated packages.\n"
     ]
    }
   ],
   "source": [
    "%pip install -qU langchain-openai"
   ]
  },
  {
   "cell_type": "code",
   "execution_count": 1,
   "id": "7de22c62",
   "metadata": {},
   "outputs": [],
   "source": [
    "from langchain.output_parsers import XMLOutputParser\n",
    "from langchain_community.chat_models import ChatAnthropic\n",
    "from langchain_core.prompts import PromptTemplate"
   ]
  },
  {
   "cell_type": "code",
   "execution_count": 2,
   "id": "7cfc5574",
   "metadata": {},
   "outputs": [],
   "source": [
    "from langchain_openai import AzureChatOpenAI\n",
    "model = AzureChatOpenAI(\n",
    "    temperature=0,\n",
    "    api_key=\"534036f31d14400b9f07a2cd7680af25\",\n",
    "    api_version=\"2024-02-01\",\n",
    "    azure_endpoint=\"https://dono-rag-demo-resource-instance.openai.azure.com\",\n",
    "    model=\"GPT_35_TURBO_DEMO_RAG_DEPLOYMENT_DONO\"\n",
    ")\n",
    "     "
   ]
  },
  {
   "cell_type": "code",
   "execution_count": 6,
   "id": "68f735fa",
   "metadata": {},
   "outputs": [
    {
     "name": "stdout",
     "output_type": "stream",
     "text": [
      "Shah Rukh Khan, also known as SRK, is a prominent Indian actor, film producer, and television personality. He is often referred to as the \"King of Bollywood\" and has appeared in over 80 Bollywood films.\n",
      "\n",
      "Some of his most popular movies include:\n",
      "1. <Dilwale Dulhania Le Jayenge>\n",
      "2. <Kuch Kuch Hota Hai>\n",
      "3. <Devdas>\n",
      "4. <Chak De! India>\n",
      "5. <My Name is Khan>\n",
      "6. <Om Shanti Om>\n",
      "7. <Kabhi Khushi Kabhie Gham>\n",
      "8. <Raees>\n",
      "9. <Don>\n",
      "10. <Swades>\n",
      "\n",
      "Shah Rukh Khan has received numerous awards for his performances and has a massive fan following both in India and internationally. He is known for his charismatic on-screen presence and versatility as an actor.\n"
     ]
    }
   ],
   "source": [
    "\n",
    "actor_query = \"Tell me about shahrukhan.\"\n",
    "output = model.invoke(\n",
    "    f\"\"\"{actor_query}\n",
    "Please enclose the movies in  tags\"\"\"\n",
    ")\n",
    "print(output.content)"
   ]
  },
  {
   "cell_type": "code",
   "execution_count": 11,
   "id": "23bbda92",
   "metadata": {},
   "outputs": [
    {
     "name": "stdout",
     "output_type": "stream",
     "text": [
      "Defaulting to user installation because normal site-packages is not writeable\n",
      "Requirement already satisfied: defusedxml in c:\\programdata\\anaconda3\\lib\\site-packages (0.7.1)\n"
     ]
    }
   ],
   "source": [
    "!pip install defusedxml"
   ]
  },
  {
   "cell_type": "code",
   "execution_count": 7,
   "id": "62d8c418",
   "metadata": {},
   "outputs": [
    {
     "name": "stdout",
     "output_type": "stream",
     "text": [
      "{'shahrukhan': [{'name': 'Shah Rukh Khan'}, {'age': '55'}, {'occupation': 'Actor, Producer, Television Personality'}, {'birthplace': 'New Delhi, India'}, {'movies': [{'movie': 'Dilwale Dulhania Le Jayenge'}, {'movie': 'Kuch Kuch Hota Hai'}, {'movie': 'My Name is Khan'}]}, {'awards': [{'award': 'Padma Shri'}, {'award': 'Ordre des Arts et des Lettres'}, {'award': 'Crystal Award'}]}]}\n"
     ]
    }
   ],
   "source": [
    "parser = XMLOutputParser()\n",
    "\n",
    "prompt = PromptTemplate(\n",
    "    template=\"\"\"{query}\\n{format_instructions}\"\"\",\n",
    "    input_variables=[\"query\"],\n",
    "    partial_variables={\"format_instructions\": parser.get_format_instructions()},\n",
    ")\n",
    "\n",
    "chain = prompt | model | parser\n",
    "\n",
    "output = chain.invoke({\"query\": actor_query})\n",
    "print(output)"
   ]
  },
  {
   "cell_type": "code",
   "execution_count": null,
   "id": "d41d697d",
   "metadata": {},
   "outputs": [],
   "source": []
  }
 ],
 "metadata": {
  "kernelspec": {
   "display_name": "Python 3 (ipykernel)",
   "language": "python",
   "name": "python3"
  },
  "language_info": {
   "codemirror_mode": {
    "name": "ipython",
    "version": 3
   },
   "file_extension": ".py",
   "mimetype": "text/x-python",
   "name": "python",
   "nbconvert_exporter": "python",
   "pygments_lexer": "ipython3",
   "version": "3.11.4"
  }
 },
 "nbformat": 4,
 "nbformat_minor": 5
}
